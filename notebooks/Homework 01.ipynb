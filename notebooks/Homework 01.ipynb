{
 "cells": [
  {
   "cell_type": "code",
   "execution_count": 1,
   "id": "0a96da3e",
   "metadata": {},
   "outputs": [
    {
     "name": "stdout",
     "output_type": "stream",
     "text": [
      "Python 3.10.13\r\n"
     ]
    }
   ],
   "source": [
    "!python --version"
   ]
  },
  {
   "cell_type": "markdown",
   "id": "76f96358",
   "metadata": {},
   "source": [
    "## Question 1 -  What's the version of Pandas that you installed?"
   ]
  },
  {
   "cell_type": "code",
   "execution_count": 77,
   "id": "b1ad2946",
   "metadata": {},
   "outputs": [
    {
     "data": {
      "text/plain": [
       "'2.0.3'"
      ]
     },
     "execution_count": 77,
     "metadata": {},
     "output_type": "execute_result"
    }
   ],
   "source": [
    "import numpy as np\n",
    "import pandas as pd\n",
    "pd.__version__"
   ]
  },
  {
   "cell_type": "markdown",
   "id": "a85f21ec",
   "metadata": {},
   "source": [
    "## Question 2 - How many columns are in the dataset?"
   ]
  },
  {
   "cell_type": "code",
   "execution_count": 7,
   "id": "b9015a4d",
   "metadata": {},
   "outputs": [],
   "source": [
    "HOUSING_DATA_PATH = \"/home/rjesus/repos/ml-zoomcamp-rjesus/homework01/data/housing.csv\""
   ]
  },
  {
   "cell_type": "code",
   "execution_count": 8,
   "id": "286e70c8",
   "metadata": {},
   "outputs": [],
   "source": [
    "df = pd.read_csv(HOUSING_DATA_PATH)"
   ]
  },
  {
   "cell_type": "code",
   "execution_count": 11,
   "id": "b44e996b",
   "metadata": {},
   "outputs": [
    {
     "data": {
      "text/plain": [
       "10"
      ]
     },
     "execution_count": 11,
     "metadata": {},
     "output_type": "execute_result"
    }
   ],
   "source": [
    "df.columns.size"
   ]
  },
  {
   "cell_type": "markdown",
   "id": "ff89a8f5",
   "metadata": {},
   "source": [
    "## Question 3 - Which columns in the dataset have missing values?"
   ]
  },
  {
   "cell_type": "code",
   "execution_count": 21,
   "id": "3cb62e53",
   "metadata": {},
   "outputs": [
    {
     "data": {
      "text/plain": [
       "longitude               0\n",
       "latitude                0\n",
       "housing_median_age      0\n",
       "total_rooms             0\n",
       "total_bedrooms        207\n",
       "population              0\n",
       "households              0\n",
       "median_income           0\n",
       "median_house_value      0\n",
       "ocean_proximity         0\n",
       "dtype: int64"
      ]
     },
     "execution_count": 21,
     "metadata": {},
     "output_type": "execute_result"
    }
   ],
   "source": [
    "df.isna().sum()"
   ]
  },
  {
   "cell_type": "markdown",
   "id": "92ead2c3",
   "metadata": {},
   "source": [
    "## Question 4 - How many unique values does the `ocean_proximity` column have?"
   ]
  },
  {
   "cell_type": "code",
   "execution_count": 25,
   "id": "5dfd5e63",
   "metadata": {},
   "outputs": [
    {
     "data": {
      "text/plain": [
       "5"
      ]
     },
     "execution_count": 25,
     "metadata": {},
     "output_type": "execute_result"
    }
   ],
   "source": [
    "df.ocean_proximity.nunique()"
   ]
  },
  {
   "cell_type": "markdown",
   "id": "b912eae9",
   "metadata": {},
   "source": [
    "## Question 5 - What's the average value of the `median_house_value` for the houses located near the bay?"
   ]
  },
  {
   "cell_type": "code",
   "execution_count": 35,
   "id": "739d6363",
   "metadata": {},
   "outputs": [
    {
     "data": {
      "text/plain": [
       "259212.31179039303"
      ]
     },
     "execution_count": 35,
     "metadata": {},
     "output_type": "execute_result"
    }
   ],
   "source": [
    "df[df.ocean_proximity == \"NEAR BAY\"].median_house_value.mean()"
   ]
  },
  {
   "cell_type": "markdown",
   "id": "c424a8f7",
   "metadata": {},
   "source": [
    "## Question 6\n",
    "1. Calculate the average of `total_bedrooms` column in the dataset."
   ]
  },
  {
   "cell_type": "code",
   "execution_count": 51,
   "id": "c3068f2d",
   "metadata": {},
   "outputs": [
    {
     "data": {
      "text/plain": [
       "537.8705525375618"
      ]
     },
     "execution_count": 51,
     "metadata": {},
     "output_type": "execute_result"
    }
   ],
   "source": [
    "average_bedrooms = df.total_bedrooms.mean()\n",
    "average_bedrooms"
   ]
  },
  {
   "cell_type": "markdown",
   "id": "059f4497",
   "metadata": {},
   "source": [
    "## Question 6\n",
    "2. Use the `fillna` method to fill the missing values in `total_bedrooms` with the mean value from the previous step."
   ]
  },
  {
   "cell_type": "code",
   "execution_count": 40,
   "id": "c86c0bbe",
   "metadata": {},
   "outputs": [
    {
     "data": {
      "text/plain": [
       "207"
      ]
     },
     "execution_count": 40,
     "metadata": {},
     "output_type": "execute_result"
    }
   ],
   "source": [
    "df.total_bedrooms.isna().sum() # Count number of not-a-number values"
   ]
  },
  {
   "cell_type": "code",
   "execution_count": 52,
   "id": "cf40de4b",
   "metadata": {},
   "outputs": [],
   "source": [
    "total_bedrooms_filled = df.total_bedrooms.fillna(average_bedrooms)"
   ]
  },
  {
   "cell_type": "markdown",
   "id": "75665ff7",
   "metadata": {},
   "source": [
    "## Question 6\n",
    "3. Now, calculate the average of `total_bedrooms` again."
   ]
  },
  {
   "cell_type": "code",
   "execution_count": 54,
   "id": "9db12fee",
   "metadata": {},
   "outputs": [
    {
     "data": {
      "text/plain": [
       "537.8705525375617"
      ]
     },
     "execution_count": 54,
     "metadata": {},
     "output_type": "execute_result"
    }
   ],
   "source": [
    "average_bedrooms_after = total_bedrooms_filled.mean()\n",
    "average_bedrooms_after"
   ]
  },
  {
   "cell_type": "markdown",
   "id": "98b6091a",
   "metadata": {},
   "source": [
    "## Question 6\n",
    "4. Has it changed?"
   ]
  },
  {
   "cell_type": "code",
   "execution_count": 58,
   "id": "92390c30",
   "metadata": {},
   "outputs": [
    {
     "data": {
      "text/plain": [
       "-0.0"
      ]
     },
     "execution_count": 58,
     "metadata": {},
     "output_type": "execute_result"
    }
   ],
   "source": [
    "(average_bedrooms_after - average_bedrooms).round(3)\n",
    "average_bedrooms_after.round(3)"
   ]
  },
  {
   "cell_type": "markdown",
   "id": "a971b917",
   "metadata": {},
   "source": [
    "## Question 7\n",
    "\n",
    "1. Select all the options located on islands."
   ]
  },
  {
   "cell_type": "code",
   "execution_count": 64,
   "id": "8f8452fe",
   "metadata": {},
   "outputs": [],
   "source": [
    "island_check = df.ocean_proximity == \"ISLAND\""
   ]
  },
  {
   "cell_type": "markdown",
   "id": "88f2567e",
   "metadata": {},
   "source": [
    "## Question 7\n",
    "2. Select only columns `housing_median_age`, `total_rooms`, `total_bedrooms`."
   ]
  },
  {
   "cell_type": "code",
   "execution_count": 68,
   "id": "32736898",
   "metadata": {},
   "outputs": [
    {
     "data": {
      "text/html": [
       "<div>\n",
       "<style scoped>\n",
       "    .dataframe tbody tr th:only-of-type {\n",
       "        vertical-align: middle;\n",
       "    }\n",
       "\n",
       "    .dataframe tbody tr th {\n",
       "        vertical-align: top;\n",
       "    }\n",
       "\n",
       "    .dataframe thead th {\n",
       "        text-align: right;\n",
       "    }\n",
       "</style>\n",
       "<table border=\"1\" class=\"dataframe\">\n",
       "  <thead>\n",
       "    <tr style=\"text-align: right;\">\n",
       "      <th></th>\n",
       "      <th>housing_median_age</th>\n",
       "      <th>total_rooms</th>\n",
       "      <th>total_bedrooms</th>\n",
       "    </tr>\n",
       "  </thead>\n",
       "  <tbody>\n",
       "    <tr>\n",
       "      <th>8314</th>\n",
       "      <td>27.0</td>\n",
       "      <td>1675.0</td>\n",
       "      <td>521.0</td>\n",
       "    </tr>\n",
       "    <tr>\n",
       "      <th>8315</th>\n",
       "      <td>52.0</td>\n",
       "      <td>2359.0</td>\n",
       "      <td>591.0</td>\n",
       "    </tr>\n",
       "    <tr>\n",
       "      <th>8316</th>\n",
       "      <td>52.0</td>\n",
       "      <td>2127.0</td>\n",
       "      <td>512.0</td>\n",
       "    </tr>\n",
       "    <tr>\n",
       "      <th>8317</th>\n",
       "      <td>52.0</td>\n",
       "      <td>996.0</td>\n",
       "      <td>264.0</td>\n",
       "    </tr>\n",
       "    <tr>\n",
       "      <th>8318</th>\n",
       "      <td>29.0</td>\n",
       "      <td>716.0</td>\n",
       "      <td>214.0</td>\n",
       "    </tr>\n",
       "  </tbody>\n",
       "</table>\n",
       "</div>"
      ],
      "text/plain": [
       "      housing_median_age  total_rooms  total_bedrooms\n",
       "8314                27.0       1675.0           521.0\n",
       "8315                52.0       2359.0           591.0\n",
       "8316                52.0       2127.0           512.0\n",
       "8317                52.0        996.0           264.0\n",
       "8318                29.0        716.0           214.0"
      ]
     },
     "execution_count": 68,
     "metadata": {},
     "output_type": "execute_result"
    }
   ],
   "source": [
    "island_data = df[island_check][[\"housing_median_age\", \"total_rooms\", \"total_bedrooms\"]]\n",
    "island_data"
   ]
  },
  {
   "cell_type": "markdown",
   "id": "152b6f04",
   "metadata": {},
   "source": [
    "## Question 7\n",
    "3. Get the underlying NumPy array. Let's call it `X`."
   ]
  },
  {
   "cell_type": "code",
   "execution_count": 72,
   "id": "080faf05",
   "metadata": {},
   "outputs": [
    {
     "data": {
      "text/plain": [
       "array([[  27., 1675.,  521.],\n",
       "       [  52., 2359.,  591.],\n",
       "       [  52., 2127.,  512.],\n",
       "       [  52.,  996.,  264.],\n",
       "       [  29.,  716.,  214.]])"
      ]
     },
     "execution_count": 72,
     "metadata": {},
     "output_type": "execute_result"
    }
   ],
   "source": [
    "X = island_data.values\n",
    "X"
   ]
  },
  {
   "cell_type": "markdown",
   "id": "89463192",
   "metadata": {},
   "source": [
    "## Question 7\n",
    "4. Compute matrix-matrix multiplication between the transpose of `X` and `X`. To get the transpose, use `X.T`. Let's call the result `XTX`."
   ]
  },
  {
   "cell_type": "code",
   "execution_count": 75,
   "id": "7197b9e2",
   "metadata": {},
   "outputs": [
    {
     "data": {
      "text/plain": [
       "array([[9.6820000e+03, 3.5105300e+05, 9.1357000e+04],\n",
       "       [3.5105300e+05, 1.4399307e+07, 3.7720360e+06],\n",
       "       [9.1357000e+04, 3.7720360e+06, 9.9835800e+05]])"
      ]
     },
     "execution_count": 75,
     "metadata": {},
     "output_type": "execute_result"
    }
   ],
   "source": [
    "XTX = X.T.dot(X)\n",
    "XTX"
   ]
  },
  {
   "cell_type": "markdown",
   "id": "5ddbd528",
   "metadata": {},
   "source": [
    "## Question 7\n",
    "5. Compute the inverse of `XTX`."
   ]
  },
  {
   "cell_type": "code",
   "execution_count": 81,
   "id": "8b8b4100",
   "metadata": {},
   "outputs": [
    {
     "data": {
      "text/plain": [
       "array([[ 1.00000000e+00,  4.64341239e-13,  1.18269543e-13],\n",
       "       [-4.39833716e-16,  1.00000000e+00, -1.66300350e-15],\n",
       "       [ 1.04674299e-15,  1.09601998e-14,  1.00000000e+00]])"
      ]
     },
     "execution_count": 81,
     "metadata": {},
     "output_type": "execute_result"
    }
   ],
   "source": [
    "XTXinv = np.linalg.inv(XTX)\n",
    "XTXinv.dot(XTX)"
   ]
  },
  {
   "cell_type": "markdown",
   "id": "789c54e5",
   "metadata": {},
   "source": [
    "## Question 7\n",
    "6. Create an array `y` with values `[950, 1300, 800, 1000, 1300]`."
   ]
  },
  {
   "cell_type": "code",
   "execution_count": 82,
   "id": "234a4568",
   "metadata": {},
   "outputs": [],
   "source": [
    "y = [950, 1300, 800, 1000, 1300]"
   ]
  },
  {
   "cell_type": "markdown",
   "id": "9812bd01",
   "metadata": {},
   "source": [
    "## Question 7\n",
    "7. Multiply the inverse of `XTX` with the transpose of `X`, and then multiply the result by `y`. Call the result `w`."
   ]
  },
  {
   "cell_type": "code",
   "execution_count": 84,
   "id": "b248f835",
   "metadata": {},
   "outputs": [
    {
     "data": {
      "text/plain": [
       "array([23.12330961, -1.48124183,  5.69922946])"
      ]
     },
     "execution_count": 84,
     "metadata": {},
     "output_type": "execute_result"
    }
   ],
   "source": [
    "w = (XTXinv.dot(X.T)).dot(y)\n",
    "w"
   ]
  },
  {
   "cell_type": "markdown",
   "id": "b0f97606",
   "metadata": {},
   "source": [
    "## Question 7\n",
    "8. What's the value of the last element of `w`?"
   ]
  },
  {
   "cell_type": "code",
   "execution_count": 85,
   "id": "60c004da",
   "metadata": {},
   "outputs": [
    {
     "data": {
      "text/plain": [
       "5.699229455065578"
      ]
     },
     "execution_count": 85,
     "metadata": {},
     "output_type": "execute_result"
    }
   ],
   "source": [
    "w[-1]"
   ]
  }
 ],
 "metadata": {
  "kernelspec": {
   "display_name": "Python 3 (ipykernel)",
   "language": "python",
   "name": "python3"
  },
  "language_info": {
   "codemirror_mode": {
    "name": "ipython",
    "version": 3
   },
   "file_extension": ".py",
   "mimetype": "text/x-python",
   "name": "python",
   "nbconvert_exporter": "python",
   "pygments_lexer": "ipython3",
   "version": "3.10.13"
  }
 },
 "nbformat": 4,
 "nbformat_minor": 5
}
